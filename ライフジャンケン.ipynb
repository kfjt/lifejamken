{
  "nbformat": 4,
  "nbformat_minor": 0,
  "metadata": {
    "colab": {
      "name": "ライフジャンケン.ipynb",
      "provenance": [],
      "collapsed_sections": [],
      "authorship_tag": "ABX9TyO5YkSSKnuAkFW9BJGoj0Wr",
      "include_colab_link": true
    },
    "kernelspec": {
      "name": "python3",
      "display_name": "Python 3"
    },
    "language_info": {
      "name": "python"
    }
  },
  "cells": [
    {
      "cell_type": "markdown",
      "metadata": {
        "id": "view-in-github",
        "colab_type": "text"
      },
      "source": [
        "<a href=\"https://colab.research.google.com/github/kfjt/lifejamken/blob/main/%E3%83%A9%E3%82%A4%E3%83%95%E3%82%B8%E3%83%A3%E3%83%B3%E3%82%B1%E3%83%B3.ipynb\" target=\"_parent\"><img src=\"https://colab.research.google.com/assets/colab-badge.svg\" alt=\"Open In Colab\"/></a>"
      ]
    },
    {
      "cell_type": "markdown",
      "source": [
        "ライフジャンケンとは\n",
        "* 「妻と僕の小規模な育児」福満しげゆき\n",
        "* 第１３７話　ライフ ジャンケン　2022年01月09日\n",
        "* https://twitter.com/fukumitsuu/status/1485178385588715522"
      ],
      "metadata": {
        "id": "Nmy5oOeknEtr"
      }
    },
    {
      "cell_type": "markdown",
      "source": [
        "ルール\n",
        "* 参加者は二人\n",
        "* 開始時にライフを５持っている\n",
        "* ライフがなくなったらゲームオーバー\n",
        "* 出せる手は１～４\n",
        "* 手の数が大きいほうが強い\n",
        "* ただし４より１が強い\n",
        "* 負けた時の手の数だけライフを失う\n",
        "* 買った時の手が２のときライフを２得る\n",
        "* ただしライフの最大は５"
      ],
      "metadata": {
        "id": "WTe1CzJOnqLc"
      }
    },
    {
      "cell_type": "code",
      "source": [
        "def ジャンケンの勝敗(自分, 相手):\n",
        "  assert 1 <= 自分 <= 4\n",
        "  assert 1 <= 相手 <= 4\n",
        "  if sorted((自分, 相手)) == [1, 4]:\n",
        "    自分, 相手 = 相手, 自分\n",
        "  if 自分 < 相手:\n",
        "    return '負け'\n",
        "  elif 自分 == 相手:\n",
        "    return 'あいこ'\n",
        "  else:\n",
        "    return '勝ち'"
      ],
      "metadata": {
        "id": "Hu7nkaagpRWb"
      },
      "execution_count": null,
      "outputs": []
    },
    {
      "cell_type": "code",
      "source": [
        "def 勝ちの結果(ライフ, 手):\n",
        "  if 手 == 2:\n",
        "    return min(ライフ + 2, 5)\n",
        "  return ライフ\n",
        "\n",
        "def 負けの結果(ライフ, 手):\n",
        "  return max(ライフ - 手, 0)"
      ],
      "metadata": {
        "id": "DKJWFMblpRiZ"
      },
      "execution_count": null,
      "outputs": []
    },
    {
      "cell_type": "code",
      "source": [
        "def ゲームオーバー(ライフ):\n",
        "  return ライフ == 0"
      ],
      "metadata": {
        "id": "1mY83kU7qBEr"
      },
      "execution_count": null,
      "outputs": []
    },
    {
      "cell_type": "code",
      "source": [
        "def 手を選ぶ():\n",
        "  while(True):\n",
        "    手 = input(f'1, 2, 3, 4 のどれかを選んでください：')\n",
        "    if len(手) != 1:\n",
        "      continue\n",
        "    if 手 not in '1234１２３４':\n",
        "      continue\n",
        "    return int(手)"
      ],
      "metadata": {
        "id": "1DCAuRs5Wl7C"
      },
      "execution_count": null,
      "outputs": []
    },
    {
      "cell_type": "code",
      "source": [
        "from random import randint\n",
        "def ライフジャンケンをする():\n",
        "  自分のライフ = 5\n",
        "  コンピュータのライフ = 5\n",
        "  while(True):\n",
        "    print(f'あなたのライフは {自分のライフ} です')\n",
        "    print(f'コンピュータのライフは {コンピュータのライフ} です')\n",
        "    自分の手 = 手を選ぶ()\n",
        "    コンピュータの手 = randint(1, 4)\n",
        "    勝敗 = ジャンケンの勝敗(自分の手, コンピュータの手)\n",
        "    if 勝敗 == '勝ち':\n",
        "      自分のライフ = 勝ちの結果(自分のライフ, 自分の手)\n",
        "      コンピュータのライフ = 負けの結果(コンピュータのライフ, コンピュータの手)\n",
        "      if ゲームオーバー(コンピュータのライフ):\n",
        "        return '勝った'\n",
        "    elif 勝敗 == '負け':\n",
        "      自分のライフ = 負けの結果(自分のライフ, 自分の手)\n",
        "      コンピュータのライフ = 勝ちの結果(コンピュータのライフ, コンピュータの手)\n",
        "      if ゲームオーバー(自分のライフ):\n",
        "        return '負けた'\n",
        "    print(f'あなたの手 {自分の手} は コンピュータの手 {コンピュータの手} に対し {勝敗} でした')\n"
      ],
      "metadata": {
        "id": "sJiNxUjybSnY"
      },
      "execution_count": null,
      "outputs": []
    },
    {
      "cell_type": "markdown",
      "source": [
        "この次のセルでジャンケンが開始できます"
      ],
      "metadata": {
        "id": "aHi8RZJlfZWk"
      }
    },
    {
      "cell_type": "code",
      "source": [
        "ライフジャンケンをする()"
      ],
      "metadata": {
        "id": "RA1kZG0yae1C"
      },
      "execution_count": null,
      "outputs": []
    },
    {
      "cell_type": "markdown",
      "source": [
        "以下テストコード"
      ],
      "metadata": {
        "id": "-8dPlM-QqBWj"
      }
    },
    {
      "cell_type": "code",
      "source": [
        "from unittest import (\n",
        "    TestCase,\n",
        "    main as run_test,\n",
        ")"
      ],
      "metadata": {
        "id": "djnC6pKSqBdv"
      },
      "execution_count": null,
      "outputs": []
    },
    {
      "cell_type": "code",
      "source": [
        "class Testじゃんけんの勝敗(TestCase):\n",
        "  def test_ジャンケンに不正な手(クラス):\n",
        "    手の組合せ = [\n",
        "              (0, 1),\n",
        "              (5, 2),\n",
        "              (3, 0),\n",
        "              (4, 5),\n",
        "    ]\n",
        "    for 自分, 相手 in 手の組合せ:\n",
        "      with クラス.subTest(f'{自分} または {相手} が 不正な手'):\n",
        "        with クラス.assertRaises(AssertionError):\n",
        "          ジャンケンの勝敗(自分, 相手)\n",
        "  def test_ジャンケンに勝ち(クラス):\n",
        "    手の組合せ = [\n",
        "              (3, 2),\n",
        "              (4, 2),\n",
        "              (1, 4),\n",
        "    ]\n",
        "    for 自分, 相手 in 手の組合せ:\n",
        "      with クラス.subTest(f'{自分} が {相手} に 勝ち '):\n",
        "        クラス.assertEqual(ジャンケンの勝敗(自分, 相手), '勝ち')\n",
        "  def test_ジャンケンに負け(クラス):\n",
        "    手の組合せ = [\n",
        "              (1, 2),\n",
        "              (2, 4),\n",
        "              (4, 1),\n",
        "    ]\n",
        "    for 自分, 相手 in 手の組合せ:\n",
        "      with クラス.subTest(f'{自分} が {相手} に 負け '):\n",
        "        クラス.assertEqual(ジャンケンの勝敗(自分, 相手), '負け')\n",
        "  def test_ジャンケンにあいこ(クラス):\n",
        "    手の組合せ = [\n",
        "              (1, 1),\n",
        "              (3, 3),\n",
        "    ]\n",
        "    for 自分, 相手 in 手の組合せ:\n",
        "      with クラス.subTest(f'{自分} が {相手} に あいこ '):\n",
        "        クラス.assertEqual(ジャンケンの勝敗(自分, 相手), 'あいこ')"
      ],
      "metadata": {
        "id": "7JNEUgbfqBld"
      },
      "execution_count": null,
      "outputs": []
    },
    {
      "cell_type": "code",
      "source": [
        "class Testライフ(TestCase):\n",
        "  def test_勝ちの結果(クラス):\n",
        "    入出力の組合せ = [\n",
        "              ((1, 1), 1),\n",
        "              ((1, 2), 3),\n",
        "              ((1, 3), 1),\n",
        "              ((1, 4), 1),\n",
        "              ((4, 2), 5),\n",
        "    ]\n",
        "    for (ライフ, 手), 期待値 in 入出力の組合せ:\n",
        "      with クラス.subTest(f'ライフが {ライフ} で {手} を出して 勝ち のとき ライフが {期待値} になる'):\n",
        "        クラス.assertEqual(勝ちの結果(ライフ, 手), 期待値)\n",
        "\n",
        "  def test_負けの結果(クラス):\n",
        "    入出力の組合せ = [\n",
        "              ((4, 1), 3),\n",
        "              ((4, 2), 2),\n",
        "              ((4, 3), 1),\n",
        "              ((4, 4), 0),\n",
        "              ((1, 4), 0),\n",
        "    ]\n",
        "    for (ライフ, 手), 期待値 in 入出力の組合せ:\n",
        "      with クラス.subTest(f'ライフが {ライフ} で {手} を出して 負け のとき ライフが {期待値} になる'):\n",
        "        クラス.assertEqual(負けの結果(ライフ, 手), 期待値)\n"
      ],
      "metadata": {
        "id": "LM0bflDp-Jy9"
      },
      "execution_count": null,
      "outputs": []
    },
    {
      "cell_type": "code",
      "source": [
        "class Testゲームオーバー(TestCase):\n",
        "  def test_ゲームオーバーである(クラス):\n",
        "    クラス.assertTrue(ゲームオーバー(0))\n",
        "\n",
        "  def test_ゲームオーバーでない(クラス):\n",
        "    for ライフ in (1, 2, 3, 4, 5):\n",
        "      with クラス.subTest('ライフが {ライフ} のとき ゲームオーバーでない'):\n",
        "        クラス.assertFalse(ゲームオーバー(ライフ))"
      ],
      "metadata": {
        "id": "xBq9t90RU5aO"
      },
      "execution_count": null,
      "outputs": []
    },
    {
      "cell_type": "code",
      "source": [
        "run_test(argv=[''], exit=False)"
      ],
      "metadata": {
        "id": "FKBkxt1SvZgS"
      },
      "execution_count": null,
      "outputs": []
    },
    {
      "cell_type": "code",
      "source": [
        ""
      ],
      "metadata": {
        "id": "28oKvHOTWhdA"
      },
      "execution_count": null,
      "outputs": []
    }
  ]
}